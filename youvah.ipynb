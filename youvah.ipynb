{
 "cells": [
  {
   "cell_type": "code",
   "execution_count": 1,
   "id": "93c620c7",
   "metadata": {},
   "outputs": [
    {
     "name": "stdout",
     "output_type": "stream",
     "text": [
      "                                          URL  Views  Likes  Comments  \\\n",
      "0    https://www.instagram.com/p/C7MSaMssYFN/    368     69         1   \n",
      "1    https://www.instagram.com/p/C7B4t-AxoFW/   1018    109         5   \n",
      "2    https://www.instagram.com/p/C68rVW_srUf/   1035     74         0   \n",
      "3    https://www.instagram.com/p/C6qwuetNedA/   1650    132         4   \n",
      "4    https://www.instagram.com/p/C6JFSXdRZLW/   2746    171         4   \n",
      "..                                        ...    ...    ...       ...   \n",
      "196  https://www.instagram.com/p/CH2eY_Kpfso/    246     71        12   \n",
      "197  https://www.instagram.com/p/CH2RBJ6JD0g/    205     66        20   \n",
      "198  https://www.instagram.com/p/CHdDgs0JiWB/    183     58         2   \n",
      "199  https://www.instagram.com/p/CHQBObpplU3/    178     51         0   \n",
      "200  https://www.instagram.com/p/CGtVQLDgNRq/    276     51         2   \n",
      "\n",
      "                                               Caption  \n",
      "0    Teens, it’s your time to shine! 🌟 Vote for Sci...  \n",
      "1    New twist in teens voting rights! What next? S...  \n",
      "2                😊🙃\\n\\n#reels #trendingnow #funnymemes  \n",
      "3    Apna pehla resume banane ke liye tayyar ho? Yo...  \n",
      "4    One love which all teenagers need , right ? 👥 ...  \n",
      "..                                                 ...  \n",
      "196  Sketching is a kind of thing... Which makes a ...  \n",
      "197  Hey guys,so here is Krishna Parashar making be...  \n",
      "198  YouVah:- India's first app for teenagers comin...  \n",
      "199  Unboxing video by @__apoorv__yadav__ \\n\\nYouVa...  \n",
      "200  YouVah! Goodies Unboxing\\n\\nIndia's first plat...  \n",
      "\n",
      "[201 rows x 5 columns]\n"
     ]
    }
   ],
   "source": [
    "import instaloader\n",
    "import time\n",
    "import pandas as pd\n",
    "\n",
    "# Create an instance of Instaloader\n",
    "loader = instaloader.Instaloader()\n",
    "\n",
    "# Define the Instagram profile you want to scrape\n",
    "profile_name = \"youvah_official\"\n",
    "\n",
    "# List to hold extracted data\n",
    "data = []\n",
    "\n",
    "# Load the profile\n",
    "try:\n",
    "    profile = instaloader.Profile.from_username(loader.context, profile_name)\n",
    "except instaloader.exceptions.InstaloaderException as e:\n",
    "    print(\"Error loading profile:\", e)\n",
    "else:\n",
    "    # Iterate over all posts in the profile\n",
    "    for post in profile.get_posts():\n",
    "        # Check if the post is a reel (video)\n",
    "        if post.is_video:\n",
    "            try:\n",
    "                # Extract details for the reel\n",
    "                views = post.video_view_count\n",
    "                likes = post.likes\n",
    "                comments = post.comments\n",
    "                caption = post.caption\n",
    "                post_url = f\"https://www.instagram.com/p/{post.shortcode}/\"\n",
    "\n",
    "                # Append the extracted details to the data list\n",
    "                data.append({\n",
    "                    \"URL\": post_url,\n",
    "                    \"Views\": views,\n",
    "                    \"Likes\": likes,\n",
    "                    \"Comments\": comments,\n",
    "                    \"Caption\": caption\n",
    "                })\n",
    "\n",
    "                # Wait a bit to avoid hitting rate limits\n",
    "                time.sleep(2)\n",
    "            except instaloader.exceptions.InstaloaderException as e:\n",
    "                print(\"Error loading post:\", e)\n",
    "\n",
    "# Introduce a delay to allow time for data collection\n",
    "time.sleep(10)\n",
    "\n",
    "# Create a DataFrame from the collected data\n",
    "df = pd.DataFrame(data)\n",
    "\n",
    "# Check if the DataFrame is empty\n",
    "if df.empty:\n",
    "    print(\"No reels found for the specified profile.\")\n",
    "else:\n",
    "    # Print the DataFrame to verify the output\n",
    "    print(df)\n",
    "\n",
    "# Now, you can save the data from the DataFrame to an Excel file when desired.\n"
   ]
  },
  {
   "cell_type": "code",
   "execution_count": 2,
   "id": "42897842",
   "metadata": {},
   "outputs": [],
   "source": [
    "output_file = \"youvah.xlsx\""
   ]
  },
  {
   "cell_type": "code",
   "execution_count": 3,
   "id": "8797d254",
   "metadata": {},
   "outputs": [],
   "source": [
    "df.to_excel(output_file, index=False)"
   ]
  },
  {
   "cell_type": "code",
   "execution_count": 4,
   "id": "8df39dfe",
   "metadata": {},
   "outputs": [
    {
     "name": "stdout",
     "output_type": "stream",
     "text": [
      "Data saved to youvah.xlsx\n"
     ]
    }
   ],
   "source": [
    "print(f\"Data saved to {output_file}\")"
   ]
  },
  {
   "cell_type": "code",
   "execution_count": null,
   "id": "98ca4282",
   "metadata": {},
   "outputs": [],
   "source": []
  }
 ],
 "metadata": {
  "kernelspec": {
   "display_name": "Python 3 (ipykernel)",
   "language": "python",
   "name": "python3"
  },
  "language_info": {
   "codemirror_mode": {
    "name": "ipython",
    "version": 3
   },
   "file_extension": ".py",
   "mimetype": "text/x-python",
   "name": "python",
   "nbconvert_exporter": "python",
   "pygments_lexer": "ipython3",
   "version": "3.10.5"
  }
 },
 "nbformat": 4,
 "nbformat_minor": 5
}
