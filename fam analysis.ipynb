{
 "cells": [
  {
   "cell_type": "code",
   "execution_count": 1,
   "id": "36c71e23",
   "metadata": {},
   "outputs": [],
   "source": [
    "import pandas as pd"
   ]
  },
  {
   "cell_type": "code",
   "execution_count": 2,
   "id": "17edb440",
   "metadata": {},
   "outputs": [],
   "source": [
    "data = pd.read_excel(\"famindia_final.xlsx\")"
   ]
  },
  {
   "cell_type": "code",
   "execution_count": 3,
   "id": "5aa93329",
   "metadata": {},
   "outputs": [],
   "source": [
    "def convert_views_to_numeric(view_str):\n",
    "    if isinstance(view_str, str):\n",
    "        if 'm' in view_str:\n",
    "            return float(view_str.replace('m', '')) * 1e6\n",
    "        elif 'k' in view_str:\n",
    "            return float(view_str.replace('k', '')) * 1e3\n",
    "        else:\n",
    "            return float(view_str)\n",
    "    else:\n",
    "        return view_str"
   ]
  },
  {
   "cell_type": "code",
   "execution_count": 4,
   "id": "c61f7ff7",
   "metadata": {},
   "outputs": [],
   "source": [
    "data['Views'] = data['Views'].apply(convert_views_to_numeric)"
   ]
  },
  {
   "cell_type": "code",
   "execution_count": 5,
   "id": "402f5191",
   "metadata": {},
   "outputs": [
    {
     "name": "stdout",
     "output_type": "stream",
     "text": [
      "                                          URL      Views   Likes  Comments  \\\n",
      "0    https://www.instagram.com/p/C683FOGyPXu/  3700000.0  289050      1003   \n",
      "1    https://www.instagram.com/p/C6tgxR3Sr3x/   385000.0    7876       111   \n",
      "2    https://www.instagram.com/p/C6oRfdut-j7/   297000.0   10188        71   \n",
      "3    https://www.instagram.com/p/C6jH0WqyDKY/   467000.0    9579       107   \n",
      "4    https://www.instagram.com/p/C6gitm-teJE/  1000000.0   41336       132   \n",
      "..                                        ...        ...     ...       ...   \n",
      "278  https://www.instagram.com/p/CC0zPQihcDF/    19050.0     985        49   \n",
      "279  https://www.instagram.com/p/CBsO6hTh3Ve/     5315.0     544        11   \n",
      "280  https://www.instagram.com/p/B8vytn8hwM-/     2453.0     298         2   \n",
      "281  https://www.instagram.com/p/B4hpTyHBtyS/     1505.0     289        13   \n",
      "282  https://www.instagram.com/p/B3rcTVwh4kj/     2264.0     372        54   \n",
      "\n",
      "               Datetime                                            Caption  \\\n",
      "0   2024-05-14 13:42:50                                  you’ve got this 🥹   \n",
      "1   2024-05-08 14:53:45  Curriculum itna cool aur practical ho, toh abb...   \n",
      "2   2024-05-06 13:50:09  they really thought they could hide this from ...   \n",
      "3   2024-05-04 13:48:25  BAG this 2 Cr+ TETR scholarship 🤩 Head to FamA...   \n",
      "4   2024-05-03 13:46:04  that’s not your lunch anymore, that’s OUR lunch 🥹   \n",
      "..                  ...                                                ...   \n",
      "278 2020-07-19 13:16:44  This summer, we virtually welcomed an amazing ...   \n",
      "279 2020-06-21 09:04:30  To celebrate Father's Day, we played a fun lit...   \n",
      "280 2020-02-19 11:27:57  Change is the only constant, ain't it? Time to...   \n",
      "281 2019-11-06 13:30:33  Introducing FamJam, an interactive event focus...   \n",
      "282 2019-10-16 12:17:48  Thanks to all the children for their unconditi...   \n",
      "\n",
      "                                              hashtags  hashtag_count  \n",
      "0                                                  NaN              0  \n",
      "1                                                  NaN              0  \n",
      "2                                                  NaN              0  \n",
      "3                                                  NaN              0  \n",
      "4                                                  NaN              0  \n",
      "..                                                 ...            ...  \n",
      "278  #FamPay #GetFamPaid #Teenfluencers #DigitalPay...              5  \n",
      "279  #FriendsOfFam #TeamDad #FamPay #FathersDay #Ge...              5  \n",
      "280  #ditchcash #getfampaid #fampay #NoMoreCash #No...             13  \n",
      "281  #famjam #event #friendsoffam #inspiration #ent...             10  \n",
      "282  #worldfoodday #foodforall #communities #shanti...              7  \n",
      "\n",
      "[283 rows x 8 columns]\n"
     ]
    }
   ],
   "source": [
    "print(data)"
   ]
  },
  {
   "cell_type": "code",
   "execution_count": 6,
   "id": "cb54f9c2",
   "metadata": {},
   "outputs": [],
   "source": [
    "# Apply the function to convert 'Views' column to numeric\n",
    "data['Views'] = data['Views'].apply(convert_views_to_numeric)\n"
   ]
  },
  {
   "cell_type": "code",
   "execution_count": 7,
   "id": "7577481e",
   "metadata": {},
   "outputs": [],
   "source": [
    "top_10_views = data.nlargest(10, 'Views')"
   ]
  },
  {
   "cell_type": "code",
   "execution_count": 8,
   "id": "83cbf9ab",
   "metadata": {},
   "outputs": [
    {
     "name": "stdout",
     "output_type": "stream",
     "text": [
      "Top 10 reels based on views:\n",
      "                                          URL       Views    Likes  Comments  \\\n",
      "98   https://www.instagram.com/p/CtwX_ikJFqr/  11600000.0   314781      5948   \n",
      "50   https://www.instagram.com/p/C01gneYSylv/   5900000.0   248700       509   \n",
      "0    https://www.instagram.com/p/C683FOGyPXu/   3700000.0   289050      1003   \n",
      "8    https://www.instagram.com/p/C6EO9v_ygZB/   3500000.0  2039654      9876   \n",
      "31   https://www.instagram.com/p/C2sAlLgyacb/   3300000.0   177142      1848   \n",
      "52   https://www.instagram.com/p/C0rNavKNPkF/   3200000.0   157569       487   \n",
      "127  https://www.instagram.com/p/CppyqFOJBST/   3200000.0   479230      1549   \n",
      "56   https://www.instagram.com/p/C0CF7wpyQTY/   2000000.0    74771     38838   \n",
      "91   https://www.instagram.com/p/Cuca0D_JzKp/   2000000.0   192623       684   \n",
      "90   https://www.instagram.com/p/CuhSj8zJnZL/   1600000.0   264322       738   \n",
      "\n",
      "               Datetime                                            Caption  \\\n",
      "98  2023-06-21 14:32:31              sleeping with the lights on tonight 🙈   \n",
      "50  2023-12-14 14:05:40  forget palat cuz all you need is the iconic Fa...   \n",
      "0   2024-05-14 13:42:50                                  you’ve got this 🥹   \n",
      "8   2024-04-22 13:54:57                                              🥹👉🏻👈🏻   \n",
      "31  2024-01-29 14:35:15             Share this hack with your friends :”))   \n",
      "52  2023-12-10 14:45:33                   there is always a backup plan 🙏🏻   \n",
      "127 2023-03-11 15:06:50   remember at the end of the day: aaaall is well 🫶   \n",
      "56  2023-11-24 14:50:26  drop a comment on this post & every 10th comme...   \n",
      "91  2023-07-08 17:06:55                                     ~can i~ May i?   \n",
      "90  2023-07-10 14:27:02                                  got cos(played) 🤡   \n",
      "\n",
      "    hashtags  hashtag_count  \n",
      "98       NaN              0  \n",
      "50       NaN              0  \n",
      "0        NaN              0  \n",
      "8        NaN              0  \n",
      "31       NaN              0  \n",
      "52       NaN              0  \n",
      "127      NaN              0  \n",
      "56       NaN              0  \n",
      "91       NaN              0  \n",
      "90       NaN              0  \n"
     ]
    }
   ],
   "source": [
    "print(\"Top 10 reels based on views:\")\n",
    "print(top_10_views)"
   ]
  },
  {
   "cell_type": "code",
   "execution_count": 10,
   "id": "f8c3c44b",
   "metadata": {},
   "outputs": [
    {
     "data": {
      "image/png": "[encoded data removed]",
      "text/plain": [
       "<Figure size 1000x600 with 1 Axes>"
      ]
     },
     "metadata": {},
     "output_type": "display_data"
    },
    {
     "name": "stdout",
     "output_type": "stream",
     "text": [
      "Most relevant hour to post: 13\n"
     ]
    }
   ],
   "source": [
    "import pandas as pd\n",
    "import matplotlib.pyplot as plt\n",
    "\n",
    "# Step 1: Load the Data\n",
    "data = pd.read_excel(\"famindia_final.xlsx\")\n",
    "\n",
    "# Step 2: Data Preprocessing\n",
    "# Convert date/time column to datetime data type\n",
    "data['date_time'] = pd.to_datetime(data['Datetime'])\n",
    "\n",
    "# Step 3: Extract hour from the datetime column\n",
    "data['hour'] = data['Datetime'].dt.hour\n",
    "\n",
    "# Step 4: Count the number of posts for each hour\n",
    "hourly_counts = data['hour'].value_counts().sort_index()\n",
    "\n",
    "# Step 5: Plot the distribution of posts over hours\n",
    "plt.figure(figsize=(10, 6))\n",
    "hourly_counts.plot(kind='bar')\n",
    "plt.title('Distribution of Posts Over Hours')\n",
    "plt.xlabel('Hour of the Day')\n",
    "plt.ylabel('Number of Posts')\n",
    "plt.xticks(rotation=0)\n",
    "plt.grid(axis='y')\n",
    "plt.show()\n",
    "\n",
    "# Step 6: Find the hour with the highest number of posts\n",
    "most_relevant_hour = hourly_counts.idxmax()\n",
    "print(\"Most relevant hour to post:\", most_relevant_hour)\n"
   ]
  },
  {
   "cell_type": "code",
   "execution_count": null,
   "id": "3866c2f5",
   "metadata": {},
   "outputs": [],
   "source": []
  }
 ],
 "metadata": {
  "kernelspec": {
   "display_name": "Python 3 (ipykernel)",
   "language": "python",
   "name": "python3"
  },
  "language_info": {
   "codemirror_mode": {
    "name": "ipython",
    "version": 3
   },
   "file_extension": ".py",
   "mimetype": "text/x-python",
   "name": "python",
   "nbconvert_exporter": "python",
   "pygments_lexer": "ipython3",
   "version": "3.10.5"
  }
 },
 "nbformat": 4,
 "nbformat_minor": 5
}
