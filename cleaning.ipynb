{
 "cells": [
  {
   "cell_type": "code",
   "execution_count": 1,
   "id": "55c274ef",
   "metadata": {},
   "outputs": [
    {
     "name": "stdout",
     "output_type": "stream",
     "text": [
      "Requirement already satisfied: pandas in c:\\users\\kisho\\appdata\\local\\programs\\python\\python310\\lib\\site-packages (1.5.0)\n",
      "Requirement already satisfied: openpyxl in c:\\users\\kisho\\appdata\\local\\programs\\python\\python310\\lib\\site-packages (3.1.2)\n",
      "Requirement already satisfied: numpy>=1.21.0 in c:\\users\\kisho\\appdata\\local\\programs\\python\\python310\\lib\\site-packages (from pandas) (1.23.3)\n",
      "Requirement already satisfied: python-dateutil>=2.8.1 in c:\\users\\kisho\\appdata\\local\\programs\\python\\python310\\lib\\site-packages (from pandas) (2.8.2)\n",
      "Requirement already satisfied: pytz>=2020.1 in c:\\users\\kisho\\appdata\\local\\programs\\python\\python310\\lib\\site-packages (from pandas) (2022.2.1)\n",
      "Requirement already satisfied: et-xmlfile in c:\\users\\kisho\\appdata\\local\\programs\\python\\python310\\lib\\site-packages (from openpyxl) (1.1.0)\n",
      "Requirement already satisfied: six>=1.5 in c:\\users\\kisho\\appdata\\local\\programs\\python\\python310\\lib\\site-packages (from python-dateutil>=2.8.1->pandas) (1.16.0)\n",
      "Note: you may need to restart the kernel to use updated packages.\n"
     ]
    },
    {
     "name": "stderr",
     "output_type": "stream",
     "text": [
      "WARNING: You are using pip version 22.0.4; however, version 24.0 is available.\n",
      "You should consider upgrading via the 'C:\\Users\\kisho\\AppData\\Local\\Programs\\Python\\Python310\\python.exe -m pip install --upgrade pip' command.\n"
     ]
    }
   ],
   "source": [
    "pip install pandas openpyxl"
   ]
  },
  {
   "cell_type": "code",
   "execution_count": 2,
   "id": "e5d34f7e",
   "metadata": {},
   "outputs": [],
   "source": [
    "import pandas as pd"
   ]
  },
  {
   "cell_type": "code",
   "execution_count": 3,
   "id": "a550c96a",
   "metadata": {},
   "outputs": [],
   "source": [
    "df = pd.read_excel('manual_data.xlsx')"
   ]
  },
  {
   "cell_type": "code",
   "execution_count": 4,
   "id": "b9828481",
   "metadata": {},
   "outputs": [],
   "source": [
    "def convert_to_int(value):\n",
    "    if isinstance(value, str):\n",
    "        value = value.strip()  # Remove any leading/trailing whitespace\n",
    "        if 'k' in value:\n",
    "            return int(float(value.replace('k', '')) * 1000)\n",
    "        elif 'm' in value:\n",
    "            return int(float(value.replace('m', '')) * 1000000)\n",
    "        else:\n",
    "            try:\n",
    "                return int(value)\n",
    "            except ValueError:\n",
    "                return 0  # or handle it another way if needed\n",
    "    elif isinstance(value, (int, float)):\n",
    "        return int(value)\n",
    "    else:\n",
    "        return 0 "
   ]
  },
  {
   "cell_type": "code",
   "execution_count": 5,
   "id": "18bba53a",
   "metadata": {},
   "outputs": [],
   "source": [
    "df['likes'] = df['likes'].fillna(0)\n",
    "df['views'] = df['views'].fillna(0)"
   ]
  },
  {
   "cell_type": "code",
   "execution_count": 6,
   "id": "5a7957d7",
   "metadata": {},
   "outputs": [],
   "source": [
    "df['likes'] = df['likes'].apply(convert_to_int)\n",
    "df['views'] = df['views'].apply(convert_to_int)"
   ]
  },
  {
   "cell_type": "code",
   "execution_count": 7,
   "id": "a087b0da",
   "metadata": {},
   "outputs": [
    {
     "name": "stdout",
     "output_type": "stream",
     "text": [
      "  trend informative    views  likes                                  hashtags\n",
      "0    no         yes     4013    116  #YouVah #ResumeRefresh #UnlockYourSkills\n",
      "1   yes          no     7777    168                                  #onelove\n",
      "2   yes         yes  1500000   3254            #YouVahSummer #TeenInternships\n",
      "3   yes          no     9353    166           #YouVahSuccess #PaidInternships\n",
      "4    no         yes   703000   1823         #YouVahSuccess #InternshipJourney\n"
     ]
    }
   ],
   "source": [
    "print(df.head())"
   ]
  },
  {
   "cell_type": "code",
   "execution_count": 8,
   "id": "91cb3ec9",
   "metadata": {},
   "outputs": [],
   "source": [
    "df.to_excel('cleaned_1.xlsx', index=False)"
   ]
  },
  {
   "cell_type": "code",
   "execution_count": 9,
   "id": "8c105d3a",
   "metadata": {},
   "outputs": [],
   "source": [
    "df['trend'] = df['trend'].map({'yes': 1, 'no': 0})"
   ]
  },
  {
   "cell_type": "code",
   "execution_count": 10,
   "id": "618a9ab4",
   "metadata": {},
   "outputs": [],
   "source": [
    "df['informative'] = df['informative'].map({'yes': 1, 'no': 0})"
   ]
  },
  {
   "cell_type": "code",
   "execution_count": 11,
   "id": "a81c06fa",
   "metadata": {},
   "outputs": [],
   "source": [
    "trend_column = df['trend']\n",
    "informative_column = df['informative']"
   ]
  },
  {
   "cell_type": "code",
   "execution_count": 12,
   "id": "19adf452",
   "metadata": {},
   "outputs": [
    {
     "name": "stdout",
     "output_type": "stream",
     "text": [
      "   trend  informative    views  likes  \\\n",
      "0    0.0            1     4013    116   \n",
      "1    1.0            0     7777    168   \n",
      "2    1.0            1  1500000   3254   \n",
      "3    1.0            0     9353    166   \n",
      "4    0.0            1   703000   1823   \n",
      "\n",
      "                                   hashtags  \n",
      "0  #YouVah #ResumeRefresh #UnlockYourSkills  \n",
      "1                                  #onelove  \n",
      "2            #YouVahSummer #TeenInternships  \n",
      "3           #YouVahSuccess #PaidInternships  \n",
      "4         #YouVahSuccess #InternshipJourney  \n"
     ]
    }
   ],
   "source": [
    "print(df.head())"
   ]
  },
  {
   "cell_type": "code",
   "execution_count": 13,
   "id": "7e1c58a7",
   "metadata": {},
   "outputs": [],
   "source": [
    "df.to_excel('cleaned_2.xlsx', index=False)"
   ]
  },
  {
   "cell_type": "code",
   "execution_count": 14,
   "id": "fd2138a7",
   "metadata": {},
   "outputs": [],
   "source": [
    "df['trend_informative'] = df['trend'].astype(str) + '_' + df['informative'].astype(str)"
   ]
  },
  {
   "cell_type": "code",
   "execution_count": 15,
   "id": "ed1cfc0a",
   "metadata": {},
   "outputs": [
    {
     "name": "stdout",
     "output_type": "stream",
     "text": [
      "Unique combinations of trend and informative:\n",
      "['0.0_1' '1.0_0' '1.0_1' '0.0_0' 'nan_1']\n"
     ]
    }
   ],
   "source": [
    "print(\"Unique combinations of trend and informative:\")\n",
    "print(df['trend_informative'].unique())"
   ]
  },
  {
   "cell_type": "code",
   "execution_count": 16,
   "id": "700ec63c",
   "metadata": {},
   "outputs": [
    {
     "name": "stdout",
     "output_type": "stream",
     "text": [
      "\n",
      "Before mapping:\n",
      "   trend  informative trend_informative\n",
      "0    0.0            1             0.0_1\n",
      "1    1.0            0             1.0_0\n",
      "2    1.0            1             1.0_1\n",
      "3    1.0            0             1.0_0\n",
      "4    0.0            1             0.0_1\n"
     ]
    }
   ],
   "source": [
    "print(\"\\nBefore mapping:\")\n",
    "print(df[['trend', 'informative', 'trend_informative']].head())"
   ]
  },
  {
   "cell_type": "code",
   "execution_count": 17,
   "id": "64b7ea4b",
   "metadata": {},
   "outputs": [],
   "source": [
    "mapping = {\n",
    "    '1.0_1': '11',\n",
    "    '1.0_0': '10',\n",
    "    '0.0_1': '01',\n",
    "    '0.0_0': '00'\n",
    "}"
   ]
  },
  {
   "cell_type": "code",
   "execution_count": 18,
   "id": "ad429cd1",
   "metadata": {},
   "outputs": [],
   "source": [
    "df['trend_informative'] = df['trend_informative'].map(mapping)"
   ]
  },
  {
   "cell_type": "code",
   "execution_count": 19,
   "id": "0a20110c",
   "metadata": {},
   "outputs": [
    {
     "name": "stdout",
     "output_type": "stream",
     "text": [
      "\n",
      "After mapping:\n",
      "   trend  informative trend_informative\n",
      "0    0.0            1                01\n",
      "1    1.0            0                10\n",
      "2    1.0            1                11\n",
      "3    1.0            0                10\n",
      "4    0.0            1                01\n"
     ]
    }
   ],
   "source": [
    "print(\"\\nAfter mapping:\")\n",
    "print(df[['trend', 'informative', 'trend_informative']].head())"
   ]
  },
  {
   "cell_type": "code",
   "execution_count": 20,
   "id": "9b415033",
   "metadata": {},
   "outputs": [],
   "source": [
    "df.to_excel('cleaned_3.xlsx', index=False)"
   ]
  },
  {
   "cell_type": "code",
   "execution_count": 24,
   "id": "ef1c377e",
   "metadata": {},
   "outputs": [
    {
     "name": "stdout",
     "output_type": "stream",
     "text": [
      "   trend  informative    views  likes  \\\n",
      "0    0.0            1     4013    116   \n",
      "1    1.0            0     7777    168   \n",
      "2    1.0            1  1500000   3254   \n",
      "3    1.0            0     9353    166   \n",
      "4    0.0            1   703000   1823   \n",
      "\n",
      "                                   hashtags trend_informative  \n",
      "0  #YouVah #ResumeRefresh #UnlockYourSkills                01  \n",
      "1                                  #onelove                10  \n",
      "2            #YouVahSummer #TeenInternships                11  \n",
      "3           #YouVahSuccess #PaidInternships                10  \n",
      "4         #YouVahSuccess #InternshipJourney                01  \n"
     ]
    }
   ],
   "source": [
    "print(df.head())"
   ]
  },
  {
   "cell_type": "code",
   "execution_count": null,
   "id": "c278a6c3",
   "metadata": {},
   "outputs": [],
   "source": []
  }
 ],
 "metadata": {
  "kernelspec": {
   "display_name": "Python 3 (ipykernel)",
   "language": "python",
   "name": "python3"
  },
  "language_info": {
   "codemirror_mode": {
    "name": "ipython",
    "version": 3
   },
   "file_extension": ".py",
   "mimetype": "text/x-python",
   "name": "python",
   "nbconvert_exporter": "python",
   "pygments_lexer": "ipython3",
   "version": "3.10.5"
  }
 },
 "nbformat": 4,
 "nbformat_minor": 5
}
