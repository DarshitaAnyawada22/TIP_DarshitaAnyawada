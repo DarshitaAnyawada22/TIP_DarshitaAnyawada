{
 "cells": [
  {
   "cell_type": "code",
   "execution_count": 1,
   "id": "30a4e3e4",
   "metadata": {},
   "outputs": [
    {
     "name": "stdout",
     "output_type": "stream",
     "text": [
      "Username: highschoolmoms\n",
      "Full Name: 𝗛𝗶𝗴𝗵 𝗦𝗰𝗵𝗼𝗼𝗹 𝗠𝗼𝗺𝘀 | For Students & Parents\n",
      "Bio: Asia’s biggest community of students & parents\n",
      "📚 Study tips 🎓 College Admissions & Scholarships 🤷‍♀️ Career Counseling 🏦 Internships 🔥 Success\n",
      "Profile Pic URL: https://scontent-bom2-2.cdninstagram.com/v/t51.2885-19/85225366_187617009131927_3406598004252082176_n.jpg?stp=dst-jpg_s320x320&_nc_ht=scontent-bom2-2.cdninstagram.com&_nc_cat=1&_nc_ohc=By8SKeLfOgkQ7kNvgGMAhre&edm=AOQ1c0wBAAAA&ccb=7-5&oh=00_AYCIgaE0xUf_bqvuD1PbylQtTcDERMQ9-Ufgwbv_TDJU2w&oe=6652524A&_nc_sid=8b3546\n",
      "External URL: https://linktr.ee/highschoolmoms\n",
      "Number of Posts: 3224\n",
      "Number of Followers: 135835\n",
      "Number of Following: 47\n",
      "Is Verified: False\n"
     ]
    }
   ],
   "source": [
    "import instaloader\n",
    "\n",
    "# Create an instance of Instaloader\n",
    "loader = instaloader.Instaloader()\n",
    "\n",
    "# Load a profile by username\n",
    "profile = instaloader.Profile.from_username(loader.context, \"highschoolmoms\")\n",
    "\n",
    "# Print basic profile info\n",
    "print(\"Username:\", profile.username)\n",
    "print(\"Full Name:\", profile.full_name)\n",
    "print(\"Bio:\", profile.biography)\n",
    "print(\"Profile Pic URL:\", profile.profile_pic_url)\n",
    "print(\"External URL:\", profile.external_url)\n",
    "print(\"Number of Posts:\", profile.mediacount)\n",
    "print(\"Number of Followers:\", profile.followers)\n",
    "print(\"Number of Following:\", profile.followees)\n",
    "print(\"Is Verified:\", profile.is_verified)"
   ]
  },
  {
   "cell_type": "code",
   "execution_count": 2,
   "id": "1ca7ade7",
   "metadata": {},
   "outputs": [
    {
     "name": "stdout",
     "output_type": "stream",
     "text": [
      "                                          URL   Views  Likes  Comments  \\\n",
      "0    https://www.instagram.com/p/C6v0yjgSgGH/  183566   6307        51   \n",
      "1    https://www.instagram.com/p/C68YweMo_qZ/   28272   1421         4   \n",
      "2    https://www.instagram.com/p/C66XY0BoF0Z/   25440   1367        19   \n",
      "3    https://www.instagram.com/p/C7JfCY1y43E/   11579    801         6   \n",
      "4    https://www.instagram.com/p/C7HJQtmSP-O/   27059   1394        19   \n",
      "..                                        ...     ...    ...       ...   \n",
      "712  https://www.instagram.com/p/B81jz5nnnoR/    1689     40         0   \n",
      "713  https://www.instagram.com/p/B81iYT0nNDI/     380     18         0   \n",
      "714  https://www.instagram.com/p/B81eRzBH2Mu/    1742     33         0   \n",
      "715  https://www.instagram.com/p/B807cp0nuPc/    5981     49         0   \n",
      "716  https://www.instagram.com/p/B8wXIGSnILb/     245     11         0   \n",
      "\n",
      "                                               Caption  \n",
      "0    #neet ug results are coming out on june 14 but...  \n",
      "1    Scored less 😢 marks in Class 12 Board Exams in...  \n",
      "2    So what are your next steps after Class X Boar...  \n",
      "3    Watch this video if you are a commerce student...  \n",
      "4    Most important courses for students of 10+2 PC...  \n",
      "..                                                 ...  \n",
      "712  #hsm2020gurgaon Join High School Moms Group to...  \n",
      "713  Why You Must 🚀🚀🚀 attend #hsm2020gurgaon @crown...  \n",
      "714  High School Dad ‘ Ashwin Mittal ‘ attended HSM...  \n",
      "715  What Moms say about HSM Career Conclave . Wann...  \n",
      "716  High School Moms 3rd Annual Career Conclave Ap...  \n",
      "\n",
      "[717 rows x 5 columns]\n"
     ]
    }
   ],
   "source": [
    "import instaloader\n",
    "import time\n",
    "import pandas as pd\n",
    "\n",
    "# Create an instance of Instaloader\n",
    "loader = instaloader.Instaloader()\n",
    "\n",
    "# Define the Instagram profile you want to scrape\n",
    "profile_name = \"highschoolmoms\"\n",
    "\n",
    "# List to hold extracted data\n",
    "data = []\n",
    "\n",
    "# Load the profile\n",
    "try:\n",
    "    profile = instaloader.Profile.from_username(loader.context, profile_name)\n",
    "except instaloader.exceptions.InstaloaderException as e:\n",
    "    print(\"Error loading profile:\", e)\n",
    "else:\n",
    "    # Iterate over all posts in the profile\n",
    "    for post in profile.get_posts():\n",
    "        # Check if the post is a reel (video)\n",
    "        if post.is_video:\n",
    "            try:\n",
    "                # Extract details for the reel\n",
    "                views = post.video_view_count\n",
    "                likes = post.likes\n",
    "                comments = post.comments\n",
    "                caption = post.caption\n",
    "                post_url = f\"https://www.instagram.com/p/{post.shortcode}/\"\n",
    "\n",
    "                # Append the extracted details to the data list\n",
    "                data.append({\n",
    "                    \"URL\": post_url,\n",
    "                    \"Views\": views,\n",
    "                    \"Likes\": likes,\n",
    "                    \"Comments\": comments,\n",
    "                    \"Caption\": caption\n",
    "                })\n",
    "\n",
    "                # Wait a bit to avoid hitting rate limits\n",
    "                time.sleep(2)\n",
    "            except instaloader.exceptions.InstaloaderException as e:\n",
    "                print(\"Error loading post:\", e)\n",
    "\n",
    "# Introduce a delay to allow time for data collection\n",
    "time.sleep(10)\n",
    "\n",
    "# Create a DataFrame from the collected data\n",
    "df = pd.DataFrame(data)\n",
    "\n",
    "# Check if the DataFrame is empty\n",
    "if df.empty:\n",
    "    print(\"No reels found for the specified profile.\")\n",
    "else:\n",
    "    # Print the DataFrame to verify the output\n",
    "    print(df)\n",
    "\n",
    "# Now, you can save the data from the DataFrame to an Excel file when desired.\n"
   ]
  },
  {
   "cell_type": "code",
   "execution_count": 5,
   "id": "8eacd29a",
   "metadata": {},
   "outputs": [],
   "source": [
    "output_file = \"instagram.xlsx\""
   ]
  },
  {
   "cell_type": "code",
   "execution_count": 6,
   "id": "e4fec19c",
   "metadata": {},
   "outputs": [],
   "source": [
    "df.to_excel(output_file, index=False)"
   ]
  },
  {
   "cell_type": "code",
   "execution_count": 7,
   "id": "a47e8daa",
   "metadata": {},
   "outputs": [
    {
     "name": "stdout",
     "output_type": "stream",
     "text": [
      "Data saved to instagram.xlsx\n"
     ]
    }
   ],
   "source": [
    "print(f\"Data saved to {output_file}\")"
   ]
  },
  {
   "cell_type": "code",
   "execution_count": null,
   "id": "43520f65",
   "metadata": {},
   "outputs": [],
   "source": [
    "#consistency: regular, same type, wrt time n content"
   ]
  },
  {
   "cell_type": "code",
   "execution_count": 1,
   "id": "5a18ecd5",
   "metadata": {},
   "outputs": [
    {
     "name": "stdout",
     "output_type": "stream",
     "text": [
      "               Datetime                                 Reel Link\n",
      "0   2024-05-09 12:16:24  https://www.instagram.com/p/C6v0yjgSgGH/\n",
      "1   2024-05-14 09:26:33  https://www.instagram.com/p/C68YweMo_qZ/\n",
      "2   2024-05-13 14:35:23  https://www.instagram.com/p/C66XY0BoF0Z/\n",
      "3   2024-05-19 11:57:26  https://www.instagram.com/p/C7JfCY1y43E/\n",
      "4   2024-05-18 13:37:44  https://www.instagram.com/p/C7HJQtmSP-O/\n",
      "..                  ...                                       ...\n",
      "712 2020-02-21 17:14:26  https://www.instagram.com/p/B81jz5nnnoR/\n",
      "713 2020-02-21 17:00:27  https://www.instagram.com/p/B81iYT0nNDI/\n",
      "714 2020-02-21 16:26:03  https://www.instagram.com/p/B81eRzBH2Mu/\n",
      "715 2020-02-21 11:23:31  https://www.instagram.com/p/B807cp0nuPc/\n",
      "716 2020-02-19 16:50:55  https://www.instagram.com/p/B8wXIGSnILb/\n",
      "\n",
      "[717 rows x 2 columns]\n"
     ]
    }
   ],
   "source": [
    "import instaloader\n",
    "import time\n",
    "import pandas as pd\n",
    "\n",
    "# Create an instance of Instaloader\n",
    "loader = instaloader.Instaloader()\n",
    "\n",
    "# Define the Instagram profile you want to scrape\n",
    "profile_name = \"highschoolmoms\"\n",
    "\n",
    "# List to hold extracted data\n",
    "data = []\n",
    "\n",
    "# Load the profile\n",
    "try:\n",
    "    profile = instaloader.Profile.from_username(loader.context, profile_name)\n",
    "except instaloader.exceptions.InstaloaderException as e:\n",
    "    print(\"Error loading profile:\", e)\n",
    "else:\n",
    "    # Iterate over all posts in the profile\n",
    "    for post in profile.get_posts():\n",
    "        if post.is_video:\n",
    "            try:\n",
    "                # Extract datetime and link of the reel\n",
    "                post_datetime = post.date_utc\n",
    "                reel_link = f\"https://www.instagram.com/p/{post.shortcode}/\"\n",
    "\n",
    "                # Append the extracted data to the data list\n",
    "                data.append({\n",
    "                    \"Datetime\": post_datetime,\n",
    "                    \"Reel Link\": reel_link\n",
    "               })\n",
    "\n",
    "                # Wait a bit to avoid hitting rate limits\n",
    "                time.sleep(2)\n",
    "            except instaloader.exceptions.InstaloaderException as e:\n",
    "                print(\"Error loading post:\", e)\n",
    "\n",
    "# Introduce a delay to allow time for data collection\n",
    "time.sleep(10)\n",
    "\n",
    "# Create a DataFrame from the collected data\n",
    "df = pd.DataFrame(data)\n",
    "\n",
    "# Check if the DataFrame is empty\n",
    "if df.empty:\n",
    "    print(\"No reels found for the specified profile.\")\n",
    "else:\n",
    "    # Print the DataFrame to verify the output\n",
    "    print(df)\n",
    "\n",
    "# Now, you can save the data from the DataFrame to an Excel file when desired.\n"
   ]
  },
  {
   "cell_type": "code",
   "execution_count": 2,
   "id": "b7d01b87",
   "metadata": {},
   "outputs": [],
   "source": [
    "output_file = \"highschoolmoms_datetime.xlsx\""
   ]
  },
  {
   "cell_type": "code",
   "execution_count": 3,
   "id": "4f746c0d",
   "metadata": {},
   "outputs": [],
   "source": [
    "df.to_excel(output_file, index=False)"
   ]
  },
  {
   "cell_type": "code",
   "execution_count": 4,
   "id": "96ebd8c5",
   "metadata": {},
   "outputs": [
    {
     "name": "stdout",
     "output_type": "stream",
     "text": [
      "Data saved to highschoolmoms_datetime.xlsx\n"
     ]
    }
   ],
   "source": [
    "print(f\"Data saved to {output_file}\")"
   ]
  },
  {
   "cell_type": "code",
   "execution_count": 5,
   "id": "80861787",
   "metadata": {},
   "outputs": [],
   "source": [
    "# Load the two Excel sheets into pandas DataFrames\n",
    "df1 = pd.read_excel('highschoolmoms.xlsx')\n",
    "df2 = pd.read_excel('highschoolmoms_datetime.xlsx')\n",
    "\n",
    "# Merge the two DataFrames based on the 'reel link' column\n",
    "merged_df = pd.merge(df1, df2, on='URL', how='inner')\n",
    "\n",
    "# Write the merged DataFrame to a new Excel file\n",
    "merged_df.to_excel('highschoolmoms_merged_sheet.xlsx', index=False)"
   ]
  },
  {
   "cell_type": "code",
   "execution_count": 11,
   "id": "63bb2ab7",
   "metadata": {},
   "outputs": [],
   "source": [
    "import pandas as pd"
   ]
  },
  {
   "cell_type": "code",
   "execution_count": 12,
   "id": "0d1a0a2d",
   "metadata": {},
   "outputs": [],
   "source": [
    "import re"
   ]
  },
  {
   "cell_type": "code",
   "execution_count": 13,
   "id": "a0353638",
   "metadata": {},
   "outputs": [],
   "source": [
    "df = pd.read_excel('D:\\youvah\\other accounts\\highschoolmoms_merged_sheet.xlsx')"
   ]
  },
  {
   "cell_type": "code",
   "execution_count": 16,
   "id": "98e9f04e",
   "metadata": {},
   "outputs": [],
   "source": [
    "def extract_hashtags(caption):\n",
    "    # Ensure the input is a string\n",
    "    caption = str(caption)\n",
    "    return re.findall(r'#\\w+', caption)"
   ]
  },
  {
   "cell_type": "code",
   "execution_count": 17,
   "id": "e57a2ac4",
   "metadata": {},
   "outputs": [],
   "source": [
    "df['hashtags'] = df['Caption'].apply(lambda x: extract_hashtags(x))"
   ]
  },
  {
   "cell_type": "code",
   "execution_count": 18,
   "id": "0927d983",
   "metadata": {},
   "outputs": [],
   "source": [
    "df['hashtags'] = df['hashtags'].apply(lambda x: ' '.join(x))"
   ]
  },
  {
   "cell_type": "code",
   "execution_count": 19,
   "id": "2395b934",
   "metadata": {},
   "outputs": [],
   "source": [
    "df.to_excel('highschoolmoms_final.xlsx', index=False)"
   ]
  },
  {
   "cell_type": "code",
   "execution_count": 20,
   "id": "ef411645",
   "metadata": {},
   "outputs": [
    {
     "name": "stdout",
     "output_type": "stream",
     "text": [
      "                                          URL   Views  Likes  Comments  \\\n",
      "0    https://www.instagram.com/p/C6v0yjgSgGH/  183566   6307        51   \n",
      "1    https://www.instagram.com/p/C68YweMo_qZ/   28272   1421         4   \n",
      "2    https://www.instagram.com/p/C66XY0BoF0Z/   25440   1367        19   \n",
      "3    https://www.instagram.com/p/C7JfCY1y43E/   11579    801         6   \n",
      "4    https://www.instagram.com/p/C7HJQtmSP-O/   27059   1394        19   \n",
      "..                                        ...     ...    ...       ...   \n",
      "712  https://www.instagram.com/p/B81jz5nnnoR/    1689     40         0   \n",
      "713  https://www.instagram.com/p/B81iYT0nNDI/     380     18         0   \n",
      "714  https://www.instagram.com/p/B81eRzBH2Mu/    1742     33         0   \n",
      "715  https://www.instagram.com/p/B807cp0nuPc/    5981     49         0   \n",
      "716  https://www.instagram.com/p/B8wXIGSnILb/     245     11         0   \n",
      "\n",
      "               Datetime                                            Caption  \\\n",
      "0   2024-05-09 12:16:24  #neet ug results are coming out on june 14 but...   \n",
      "1   2024-05-14 09:26:33  Scored less 😢 marks in Class 12 Board Exams in...   \n",
      "2   2024-05-13 14:35:23  So what are your next steps after Class X Boar...   \n",
      "3   2024-05-19 11:57:26  Watch this video if you are a commerce student...   \n",
      "4   2024-05-18 13:37:44  Most important courses for students of 10+2 PC...   \n",
      "..                  ...                                                ...   \n",
      "712 2020-02-21 17:14:26  #hsm2020gurgaon Join High School Moms Group to...   \n",
      "713 2020-02-21 17:00:27  Why You Must 🚀🚀🚀 attend #hsm2020gurgaon @crown...   \n",
      "714 2020-02-21 16:26:03  High School Dad ‘ Ashwin Mittal ‘ attended HSM...   \n",
      "715 2020-02-21 11:23:31  What Moms say about HSM Career Conclave . Wann...   \n",
      "716 2020-02-19 16:50:55  High School Moms 3rd Annual Career Conclave Ap...   \n",
      "\n",
      "                                              hashtags  \n",
      "0    #neet #teenagers #teenage #biology #neet #neet...  \n",
      "1    #teenager #teenagers #momsofinstagram #mothers...  \n",
      "2    #students #class10 #boardresults #teenage #tee...  \n",
      "3    #teenagers #teenage #teenagegirls #teenagepost...  \n",
      "4    #teenagere #pcmstudents #engineer #iitjee #iit...  \n",
      "..                                                 ...  \n",
      "712  #hsm2020gurgaon #gurgaonmoms #highschoolmoms #...  \n",
      "713  #hsm2020gurgaon #gurgaonmoms #seniorschoolmoms...  \n",
      "714  #HSM2020GURGAON #westdelhi #delhimoms #gurgaon...  \n",
      "715  #HSM2020GURGAON #highschoolmoms #gurgaonmoms #...  \n",
      "716  #gurgaonmoms #highschoolmoms #seniorschoolmoms...  \n",
      "\n",
      "[717 rows x 7 columns]\n"
     ]
    }
   ],
   "source": [
    "print(df)"
   ]
  },
  {
   "cell_type": "code",
   "execution_count": 21,
   "id": "6077e664",
   "metadata": {},
   "outputs": [],
   "source": [
    "def count_hashtags(hashtags):\n",
    "    return len(hashtags.split())"
   ]
  },
  {
   "cell_type": "code",
   "execution_count": 22,
   "id": "83221c89",
   "metadata": {},
   "outputs": [],
   "source": [
    "df['hashtag_count'] = df['hashtags'].apply(count_hashtags)"
   ]
  },
  {
   "cell_type": "code",
   "execution_count": 23,
   "id": "f41b6f02",
   "metadata": {},
   "outputs": [],
   "source": [
    "average_hashtags = df['hashtag_count'].mean()"
   ]
  },
  {
   "cell_type": "code",
   "execution_count": 24,
   "id": "728f2cc0",
   "metadata": {},
   "outputs": [
    {
     "name": "stdout",
     "output_type": "stream",
     "text": [
      "Average number of hashtags used: 9.422594142259415\n"
     ]
    }
   ],
   "source": [
    "print(f'Average number of hashtags used: {average_hashtags}')"
   ]
  },
  {
   "cell_type": "code",
   "execution_count": 25,
   "id": "0f33a64c",
   "metadata": {},
   "outputs": [
    {
     "name": "stdout",
     "output_type": "stream",
     "text": [
      "                                          URL   Views  Likes  Comments  \\\n",
      "0    https://www.instagram.com/p/C6v0yjgSgGH/  183566   6307        51   \n",
      "1    https://www.instagram.com/p/C68YweMo_qZ/   28272   1421         4   \n",
      "2    https://www.instagram.com/p/C66XY0BoF0Z/   25440   1367        19   \n",
      "3    https://www.instagram.com/p/C7JfCY1y43E/   11579    801         6   \n",
      "4    https://www.instagram.com/p/C7HJQtmSP-O/   27059   1394        19   \n",
      "..                                        ...     ...    ...       ...   \n",
      "712  https://www.instagram.com/p/B81jz5nnnoR/    1689     40         0   \n",
      "713  https://www.instagram.com/p/B81iYT0nNDI/     380     18         0   \n",
      "714  https://www.instagram.com/p/B81eRzBH2Mu/    1742     33         0   \n",
      "715  https://www.instagram.com/p/B807cp0nuPc/    5981     49         0   \n",
      "716  https://www.instagram.com/p/B8wXIGSnILb/     245     11         0   \n",
      "\n",
      "               Datetime                                            Caption  \\\n",
      "0   2024-05-09 12:16:24  #neet ug results are coming out on june 14 but...   \n",
      "1   2024-05-14 09:26:33  Scored less 😢 marks in Class 12 Board Exams in...   \n",
      "2   2024-05-13 14:35:23  So what are your next steps after Class X Boar...   \n",
      "3   2024-05-19 11:57:26  Watch this video if you are a commerce student...   \n",
      "4   2024-05-18 13:37:44  Most important courses for students of 10+2 PC...   \n",
      "..                  ...                                                ...   \n",
      "712 2020-02-21 17:14:26  #hsm2020gurgaon Join High School Moms Group to...   \n",
      "713 2020-02-21 17:00:27  Why You Must 🚀🚀🚀 attend #hsm2020gurgaon @crown...   \n",
      "714 2020-02-21 16:26:03  High School Dad ‘ Ashwin Mittal ‘ attended HSM...   \n",
      "715 2020-02-21 11:23:31  What Moms say about HSM Career Conclave . Wann...   \n",
      "716 2020-02-19 16:50:55  High School Moms 3rd Annual Career Conclave Ap...   \n",
      "\n",
      "                                              hashtags  hashtag_count  \n",
      "0    #neet #teenagers #teenage #biology #neet #neet...             27  \n",
      "1    #teenager #teenagers #momsofinstagram #mothers...             30  \n",
      "2    #students #class10 #boardresults #teenage #tee...             30  \n",
      "3    #teenagers #teenage #teenagegirls #teenagepost...             29  \n",
      "4    #teenagere #pcmstudents #engineer #iitjee #iit...             27  \n",
      "..                                                 ...            ...  \n",
      "712  #hsm2020gurgaon #gurgaonmoms #highschoolmoms #...             10  \n",
      "713  #hsm2020gurgaon #gurgaonmoms #seniorschoolmoms...             19  \n",
      "714  #HSM2020GURGAON #westdelhi #delhimoms #gurgaon...              7  \n",
      "715  #HSM2020GURGAON #highschoolmoms #gurgaonmoms #...              9  \n",
      "716  #gurgaonmoms #highschoolmoms #seniorschoolmoms...             15  \n",
      "\n",
      "[717 rows x 8 columns]\n"
     ]
    }
   ],
   "source": [
    "print(df)"
   ]
  },
  {
   "cell_type": "code",
   "execution_count": 27,
   "id": "6a607d2d",
   "metadata": {},
   "outputs": [],
   "source": [
    "df.to_excel('highschoolmoms_final.xlsx', index=False)"
   ]
  },
  {
   "cell_type": "code",
   "execution_count": null,
   "id": "9df08c1f",
   "metadata": {},
   "outputs": [],
   "source": []
  }
 ],
 "metadata": {
  "kernelspec": {
   "display_name": "Python 3 (ipykernel)",
   "language": "python",
   "name": "python3"
  },
  "language_info": {
   "codemirror_mode": {
    "name": "ipython",
    "version": 3
   },
   "file_extension": ".py",
   "mimetype": "text/x-python",
   "name": "python",
   "nbconvert_exporter": "python",
   "pygments_lexer": "ipython3",
   "version": "3.10.5"
  }
 },
 "nbformat": 4,
 "nbformat_minor": 5
}
