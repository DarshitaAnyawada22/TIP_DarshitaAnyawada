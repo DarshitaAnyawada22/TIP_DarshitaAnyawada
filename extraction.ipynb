{
 "cells": [
  {
   "cell_type": "code",
   "execution_count": 1,
   "id": "2ca80aa0",
   "metadata": {},
   "outputs": [
    {
     "name": "stdout",
     "output_type": "stream",
     "text": [
      "Requirement already satisfied: selenium in c:\\users\\kisho\\appdata\\local\\programs\\python\\python310\\lib\\site-packages (4.20.0)Note: you may need to restart the kernel to use updated packages.\n",
      "\n",
      "Requirement already satisfied: trio~=0.17 in c:\\users\\kisho\\appdata\\local\\programs\\python\\python310\\lib\\site-packages (from selenium) (0.25.0)\n",
      "Requirement already satisfied: typing_extensions>=4.9.0 in c:\\users\\kisho\\appdata\\local\\programs\\python\\python310\\lib\\site-packages (from selenium) (4.11.0)\n",
      "Requirement already satisfied: urllib3[socks]<3,>=1.26 in c:\\users\\kisho\\appdata\\local\\programs\\python\\python310\\lib\\site-packages (from selenium) (1.26.12)\n",
      "Requirement already satisfied: certifi>=2021.10.8 in c:\\users\\kisho\\appdata\\local\\programs\\python\\python310\\lib\\site-packages (from selenium) (2022.9.24)\n",
      "Requirement already satisfied: trio-websocket~=0.9 in c:\\users\\kisho\\appdata\\local\\programs\\python\\python310\\lib\\site-packages (from selenium) (0.11.1)\n",
      "Requirement already satisfied: cffi>=1.14 in c:\\users\\kisho\\appdata\\local\\programs\\python\\python310\\lib\\site-packages (from trio~=0.17->selenium) (1.15.1)\n",
      "Requirement already satisfied: idna in c:\\users\\kisho\\appdata\\local\\programs\\python\\python310\\lib\\site-packages (from trio~=0.17->selenium) (3.4)\n",
      "Requirement already satisfied: exceptiongroup in c:\\users\\kisho\\appdata\\local\\programs\\python\\python310\\lib\\site-packages (from trio~=0.17->selenium) (1.2.1)\n",
      "Requirement already satisfied: outcome in c:\\users\\kisho\\appdata\\local\\programs\\python\\python310\\lib\\site-packages (from trio~=0.17->selenium) (1.3.0.post0)\n",
      "Requirement already satisfied: attrs>=23.2.0 in c:\\users\\kisho\\appdata\\local\\programs\\python\\python310\\lib\\site-packages (from trio~=0.17->selenium) (23.2.0)\n",
      "Requirement already satisfied: sniffio>=1.3.0 in c:\\users\\kisho\\appdata\\local\\programs\\python\\python310\\lib\\site-packages (from trio~=0.17->selenium) (1.3.1)\n",
      "Requirement already satisfied: sortedcontainers in c:\\users\\kisho\\appdata\\local\\programs\\python\\python310\\lib\\site-packages (from trio~=0.17->selenium) (2.4.0)\n",
      "Requirement already satisfied: wsproto>=0.14 in c:\\users\\kisho\\appdata\\local\\programs\\python\\python310\\lib\\site-packages (from trio-websocket~=0.9->selenium) (1.2.0)\n",
      "Requirement already satisfied: PySocks!=1.5.7,<2.0,>=1.5.6 in c:\\users\\kisho\\appdata\\local\\programs\\python\\python310\\lib\\site-packages (from urllib3[socks]<3,>=1.26->selenium) (1.7.1)\n",
      "Requirement already satisfied: pycparser in c:\\users\\kisho\\appdata\\local\\programs\\python\\python310\\lib\\site-packages (from cffi>=1.14->trio~=0.17->selenium) (2.21)\n",
      "Requirement already satisfied: h11<1,>=0.9.0 in c:\\users\\kisho\\appdata\\local\\programs\\python\\python310\\lib\\site-packages (from wsproto>=0.14->trio-websocket~=0.9->selenium) (0.14.0)\n"
     ]
    },
    {
     "name": "stderr",
     "output_type": "stream",
     "text": [
      "WARNING: You are using pip version 22.0.4; however, version 24.0 is available.\n",
      "You should consider upgrading via the 'C:\\Users\\kisho\\AppData\\Local\\Programs\\Python\\Python310\\python.exe -m pip install --upgrade pip' command.\n"
     ]
    }
   ],
   "source": [
    "pip install selenium"
   ]
  },
  {
   "cell_type": "code",
   "execution_count": 2,
   "id": "41470e38",
   "metadata": {},
   "outputs": [
    {
     "name": "stdout",
     "output_type": "stream",
     "text": [
      "Requirement already satisfied: selenium-stealth in c:\\users\\kisho\\appdata\\local\\programs\\python\\python310\\lib\\site-packages (1.0.6)\n",
      "Requirement already satisfied: selenium in c:\\users\\kisho\\appdata\\local\\programs\\python\\python310\\lib\\site-packages (from selenium-stealth) (4.20.0)\n",
      "Requirement already satisfied: trio-websocket~=0.9 in c:\\users\\kisho\\appdata\\local\\programs\\python\\python310\\lib\\site-packages (from selenium->selenium-stealth) (0.11.1)\n",
      "Requirement already satisfied: typing_extensions>=4.9.0 in c:\\users\\kisho\\appdata\\local\\programs\\python\\python310\\lib\\site-packages (from selenium->selenium-stealth) (4.11.0)\n",
      "Requirement already satisfied: urllib3[socks]<3,>=1.26 in c:\\users\\kisho\\appdata\\local\\programs\\python\\python310\\lib\\site-packages (from selenium->selenium-stealth) (1.26.12)\n",
      "Requirement already satisfied: certifi>=2021.10.8 in c:\\users\\kisho\\appdata\\local\\programs\\python\\python310\\lib\\site-packages (from selenium->selenium-stealth) (2022.9.24)\n",
      "Requirement already satisfied: trio~=0.17 in c:\\users\\kisho\\appdata\\local\\programs\\python\\python310\\lib\\site-packages (from selenium->selenium-stealth) (0.25.0)\n",
      "Requirement already satisfied: idna in c:\\users\\kisho\\appdata\\local\\programs\\python\\python310\\lib\\site-packages (from trio~=0.17->selenium->selenium-stealth) (3.4)\n",
      "Requirement already satisfied: sniffio>=1.3.0 in c:\\users\\kisho\\appdata\\local\\programs\\python\\python310\\lib\\site-packages (from trio~=0.17->selenium->selenium-stealth) (1.3.1)\n",
      "Requirement already satisfied: sortedcontainers in c:\\users\\kisho\\appdata\\local\\programs\\python\\python310\\lib\\site-packages (from trio~=0.17->selenium->selenium-stealth) (2.4.0)\n",
      "Requirement already satisfied: exceptiongroup in c:\\users\\kisho\\appdata\\local\\programs\\python\\python310\\lib\\site-packages (from trio~=0.17->selenium->selenium-stealth) (1.2.1)\n",
      "Requirement already satisfied: attrs>=23.2.0 in c:\\users\\kisho\\appdata\\local\\programs\\python\\python310\\lib\\site-packages (from trio~=0.17->selenium->selenium-stealth) (23.2.0)\n",
      "Requirement already satisfied: cffi>=1.14 in c:\\users\\kisho\\appdata\\local\\programs\\python\\python310\\lib\\site-packages (from trio~=0.17->selenium->selenium-stealth) (1.15.1)\n",
      "Requirement already satisfied: outcome in c:\\users\\kisho\\appdata\\local\\programs\\python\\python310\\lib\\site-packages (from trio~=0.17->selenium->selenium-stealth) (1.3.0.post0)\n",
      "Requirement already satisfied: wsproto>=0.14 in c:\\users\\kisho\\appdata\\local\\programs\\python\\python310\\lib\\site-packages (from trio-websocket~=0.9->selenium->selenium-stealth) (1.2.0)\n",
      "Requirement already satisfied: PySocks!=1.5.7,<2.0,>=1.5.6 in c:\\users\\kisho\\appdata\\local\\programs\\python\\python310\\lib\\site-packages (from urllib3[socks]<3,>=1.26->selenium->selenium-stealth) (1.7.1)\n",
      "Requirement already satisfied: pycparser in c:\\users\\kisho\\appdata\\local\\programs\\python\\python310\\lib\\site-packages (from cffi>=1.14->trio~=0.17->selenium->selenium-stealth) (2.21)\n",
      "Requirement already satisfied: h11<1,>=0.9.0 in c:\\users\\kisho\\appdata\\local\\programs\\python\\python310\\lib\\site-packages (from wsproto>=0.14->trio-websocket~=0.9->selenium->selenium-stealth) (0.14.0)\n",
      "Note: you may need to restart the kernel to use updated packages.\n"
     ]
    },
    {
     "name": "stderr",
     "output_type": "stream",
     "text": [
      "WARNING: You are using pip version 22.0.4; however, version 24.0 is available.\n",
      "You should consider upgrading via the 'C:\\Users\\kisho\\AppData\\Local\\Programs\\Python\\Python310\\python.exe -m pip install --upgrade pip' command.\n"
     ]
    }
   ],
   "source": [
    "pip install selenium-stealth"
   ]
  },
  {
   "cell_type": "code",
   "execution_count": 3,
   "id": "26388608",
   "metadata": {},
   "outputs": [
    {
     "name": "stdout",
     "output_type": "stream",
     "text": [
      "Caption: youvah_official on March 20, 2024: \"Passing this to someone \"JO HAMESHA REEL DEKHTA REHTA HAI\"😜\n",
      "\n",
      "#reels #trending #passingphonechallenge\".\n"
     ]
    }
   ],
   "source": [
    "from selenium import webdriver\n",
    "\n",
    "# Initialize WebDriver\n",
    "driver = webdriver.Chrome()\n",
    "\n",
    "try:\n",
    "    # Open Instagram post URL\n",
    "    url = 'https://www.instagram.com/p/C4xr-99Mtn4/'\n",
    "    driver.get(url)\n",
    "\n",
    "    # Execute JavaScript to extract caption\n",
    "    caption = driver.execute_script(\"return document.querySelector('meta[property=\\\"og:description\\\"]').getAttribute('content').split('-')[1].trim();\")\n",
    "\n",
    "    # Print the caption\n",
    "    print(\"Caption:\", caption)\n",
    "finally:\n",
    "    # Close the WebDriver\n",
    "    driver.quit()"
   ]
  },
  {
   "cell_type": "code",
   "execution_count": 4,
   "id": "21db624c",
   "metadata": {},
   "outputs": [
    {
     "name": "stdout",
     "output_type": "stream",
     "text": [
      "Hashtags: ['#reels', '#trending', '#passingphonechallenge']\n"
     ]
    }
   ],
   "source": [
    "from selenium import webdriver\n",
    "\n",
    "# Initialize WebDriver\n",
    "driver = webdriver.Chrome()\n",
    "\n",
    "try:\n",
    "    # Open Instagram post URL\n",
    "    url = 'https://www.instagram.com/p/C4xr-99Mtn4/'\n",
    "    driver.get(url)\n",
    "\n",
    "    # Execute JavaScript to extract caption\n",
    "    caption = driver.execute_script(\"return document.querySelector('meta[property=\\\"og:description\\\"]').getAttribute('content').split('-')[1].trim();\")\n",
    "\n",
    "    # Extract hashtags from the caption using regular expressions\n",
    "    import re\n",
    "    hashtags = re.findall(r'#\\w+', caption)\n",
    "\n",
    "    # Print the hashtags\n",
    "    print(\"Hashtags:\", hashtags)\n",
    "finally:\n",
    "    # Close the WebDriver\n",
    "    driver.quit()"
   ]
  },
  {
   "cell_type": "code",
   "execution_count": 5,
   "id": "ecadfb5f",
   "metadata": {},
   "outputs": [
    {
     "name": "stdout",
     "output_type": "stream",
     "text": [
      "Likes: 3,328 likes\n",
      "Hashtags: ['#YouVahSummer']\n"
     ]
    }
   ],
   "source": [
    "from selenium import webdriver\n",
    "from selenium.webdriver.common.by import By\n",
    "from selenium.webdriver.support.ui import WebDriverWait\n",
    "from selenium.webdriver.support import expected_conditions as EC\n",
    "from selenium.common.exceptions import NoSuchElementException\n",
    "import re\n",
    "\n",
    "# Initialize WebDriver\n",
    "driver = webdriver.Chrome()\n",
    "\n",
    "try:\n",
    "    # Open Instagram post URL\n",
    "    url = 'https://www.instagram.com/p/C55yPrbRxg8/'\n",
    "    driver.get(url)\n",
    "\n",
    "    # Wait for the likes element to be visible\n",
    "    likes_element = WebDriverWait(driver, 10).until(\n",
    "        EC.visibility_of_element_located((By.XPATH, \"//span[contains(text(), ' likes')]\"))\n",
    "    )\n",
    "\n",
    "    # Scrape likes\n",
    "    likes = likes_element.text\n",
    "\n",
    "    # Execute JavaScript to extract caption\n",
    "    caption = driver.execute_script(\"return document.querySelector('meta[property=\\\"og:description\\\"]').getAttribute('content').split('-')[1].trim();\")\n",
    "\n",
    "    # Extract hashtags from the caption using regular expressions\n",
    "    hashtags = re.findall(r'#\\w+', caption)\n",
    "\n",
    "    print(f\"Likes: {likes}\")\n",
    "    print(\"Hashtags:\", hashtags)\n",
    "finally:\n",
    "    # Close the WebDriver\n",
    "    driver.quit()"
   ]
  },
  {
   "cell_type": "code",
   "execution_count": 6,
   "id": "e367e568",
   "metadata": {},
   "outputs": [
    {
     "name": "stdout",
     "output_type": "stream",
     "text": [
      "Date and Time: 2023-07-07T11:45:20.000Z\n"
     ]
    }
   ],
   "source": [
    "from selenium import webdriver\n",
    "from selenium.webdriver.common.by import By\n",
    "from selenium.webdriver.support.ui import WebDriverWait\n",
    "from selenium.webdriver.support import expected_conditions as EC\n",
    "from selenium.common.exceptions import TimeoutException, NoSuchElementException\n",
    "\n",
    "# Initialize WebDriver\n",
    "driver = webdriver.Chrome()\n",
    "\n",
    "try:\n",
    "    # Open Instagram post URL\n",
    "    post_url = 'https://www.instagram.com/p/CuZRWEOgfdG/'\n",
    "    driver.get(post_url)\n",
    "\n",
    "    # Wait for the timestamp to be visible\n",
    "    try:\n",
    "        datetime_element = WebDriverWait(driver, 20).until(\n",
    "            EC.presence_of_element_located((By.XPATH, \"//time\"))\n",
    "        )\n",
    "        datetime = datetime_element.get_attribute('datetime')\n",
    "        print(\"Date and Time:\", datetime)\n",
    "    except TimeoutException:\n",
    "        print(\"Timeout while waiting for the timestamp to load.\")\n",
    "    except NoSuchElementException:\n",
    "        print(\"Timestamp not found.\")\n",
    "\n",
    "finally:\n",
    "    # Close the WebDriver\n",
    "    driver.quit()"
   ]
  },
  {
   "cell_type": "code",
   "execution_count": 7,
   "id": "a08071ce",
   "metadata": {},
   "outputs": [
    {
     "name": "stdout",
     "output_type": "stream",
     "text": [
      "Post Details:\n",
      "Likes: 3,328 likes\n",
      "Views: N/A\n",
      "Hashtags: ['#YouVahSummer']\n",
      "Date and Time: 2024-04-18T12:30:31.000Z\n"
     ]
    }
   ],
   "source": [
    "from selenium import webdriver\n",
    "from selenium.webdriver.chrome.service import Service\n",
    "from webdriver_manager.chrome import ChromeDriverManager\n",
    "from selenium.webdriver.common.by import By\n",
    "from selenium.webdriver.support.ui import WebDriverWait\n",
    "from selenium.webdriver.support import expected_conditions as EC\n",
    "from selenium.common.exceptions import NoSuchElementException, TimeoutException\n",
    "import re\n",
    "\n",
    "# Specify Chrome WebDriver options\n",
    "chrome_options = webdriver.ChromeOptions()\n",
    "chrome_options.add_argument(\"--disable-blink-features=AutomationControlled\")\n",
    "\n",
    "# Initialize Chrome WebDriver with ChromeDriverManager\n",
    "driver = webdriver.Chrome(service=Service(ChromeDriverManager().install()), options=chrome_options)\n",
    "\n",
    "try:\n",
    "    # Open Instagram post URL\n",
    "    post_url = 'https://www.instagram.com/p/C55yPrbRxg8/'\n",
    "    driver.get(post_url)\n",
    "\n",
    "    # Wait for the likes element to be visible\n",
    "    likes_element = WebDriverWait(driver, 10).until(\n",
    "        EC.visibility_of_element_located((By.XPATH, \"//span[contains(text(), ' likes')]\"))\n",
    "    )\n",
    "\n",
    "    # Scrape likes\n",
    "    likes = likes_element.text\n",
    "\n",
    "    # Check if views count exists (for videos)\n",
    "    try:\n",
    "        views_element = driver.find_element(By.XPATH, \"//span[@class='vcOH2']\")\n",
    "        views = views_element.text\n",
    "    except NoSuchElementException:\n",
    "        views = \"N/A\"\n",
    "\n",
    "    # Execute JavaScript to extract caption\n",
    "    caption = driver.execute_script(\"return document.querySelector('meta[property=\\\"og:description\\\"]').getAttribute('content').split('-')[1].trim();\")\n",
    "\n",
    "    # Extract hashtags from the caption using regular expressions\n",
    "    hashtags = re.findall(r'#\\w+', caption)\n",
    "\n",
    "    # Wait for the timestamp to be visible\n",
    "    try:\n",
    "        datetime_element = WebDriverWait(driver, 20).until(\n",
    "            EC.presence_of_element_located((By.XPATH, \"//time\"))\n",
    "        )\n",
    "        datetime = datetime_element.get_attribute('datetime')\n",
    "    except TimeoutException:\n",
    "        datetime = \"Timestamp not found.\"\n",
    "\n",
    "    print(\"Post Details:\")\n",
    "    print(f\"Likes: {likes}\")\n",
    "    print(f\"Views: {views}\")\n",
    "    print(\"Hashtags:\", hashtags)\n",
    "    print(\"Date and Time:\", datetime)\n",
    "\n",
    "finally:\n",
    "    # Close the WebDriver\n",
    "    driver.quit()"
   ]
  },
  {
   "cell_type": "code",
   "execution_count": null,
   "id": "9bc6aae5",
   "metadata": {},
   "outputs": [],
   "source": []
  }
 ],
 "metadata": {
  "kernelspec": {
   "display_name": "Python 3 (ipykernel)",
   "language": "python",
   "name": "python3"
  },
  "language_info": {
   "codemirror_mode": {
    "name": "ipython",
    "version": 3
   },
   "file_extension": ".py",
   "mimetype": "text/x-python",
   "name": "python",
   "nbconvert_exporter": "python",
   "pygments_lexer": "ipython3",
   "version": "3.10.5"
  }
 },
 "nbformat": 4,
 "nbformat_minor": 5
}
