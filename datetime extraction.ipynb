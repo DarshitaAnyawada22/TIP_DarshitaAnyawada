{
 "cells": [
  {
   "cell_type": "code",
   "execution_count": 66,
   "id": "22f0ab50",
   "metadata": {},
   "outputs": [
    {
     "name": "stdout",
     "output_type": "stream",
     "text": [
      "Date and Time: 2022-05-27T15:56:29.000Z\n"
     ]
    }
   ],
   "source": [
    "from selenium import webdriver\n",
    "from selenium.webdriver.common.by import By\n",
    "from selenium.webdriver.support.ui import WebDriverWait\n",
    "from selenium.webdriver.support import expected_conditions as EC\n",
    "from selenium.common.exceptions import TimeoutException, NoSuchElementException\n",
    "\n",
    "# Initialize WebDriver\n",
    "driver = webdriver.Chrome()\n",
    "\n",
    "try:\n",
    "    # Open Instagram post URL\n",
    "    post_url = 'https://www.instagram.com/p/CeER8pvBlYg/'\n",
    "    driver.get(post_url)\n",
    "\n",
    "    # Wait for the timestamp to be visible\n",
    "    try:\n",
    "        datetime_element = WebDriverWait(driver, 20).until(\n",
    "            EC.presence_of_element_located((By.XPATH, \"//time\"))\n",
    "        )\n",
    "        datetime = datetime_element.get_attribute('datetime')\n",
    "        print(\"Date and Time:\", datetime)\n",
    "    except TimeoutException:\n",
    "        print(\"Timeout while waiting for the timestamp to load.\")\n",
    "    except NoSuchElementException:\n",
    "        print(\"Timestamp not found.\")\n",
    "\n",
    "finally:\n",
    "    # Close the WebDriver\n",
    "    driver.quit()"
   ]
  },
  {
   "cell_type": "code",
   "execution_count": null,
   "id": "433525d2",
   "metadata": {},
   "outputs": [],
   "source": []
  }
 ],
 "metadata": {
  "kernelspec": {
   "display_name": "Python 3 (ipykernel)",
   "language": "python",
   "name": "python3"
  },
  "language_info": {
   "codemirror_mode": {
    "name": "ipython",
    "version": 3
   },
   "file_extension": ".py",
   "mimetype": "text/x-python",
   "name": "python",
   "nbconvert_exporter": "python",
   "pygments_lexer": "ipython3",
   "version": "3.10.5"
  }
 },
 "nbformat": 4,
 "nbformat_minor": 5
}
